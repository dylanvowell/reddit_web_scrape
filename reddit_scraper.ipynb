{
 "cells": [
  {
   "cell_type": "code",
   "execution_count": 1,
   "id": "e72051a1",
   "metadata": {},
   "outputs": [],
   "source": [
    "import seaborn as sns\n",
    "from pprint import pprint\n",
    "import pandas as pd\n",
    "import numpy as np\n",
    "import matplotlib.pyplot as plt"
   ]
  },
  {
   "cell_type": "code",
   "execution_count": 2,
   "id": "593fb27c",
   "metadata": {},
   "outputs": [],
   "source": [
    "import praw\n",
    "with open(\"config.py\", \"r\") as f:\n",
    "    secret = f.read()    \n",
    "\n",
    "user_agent = \"Scraper 1.0 by /u/street_raat\"\n",
    "reddit = praw.Reddit(\n",
    "    client_id=\"cDqi0tPvG8rAKV4ucqwVKQ\",\n",
    "    client_secret = secret,\n",
    "    user_agent = user_agent\n",
    ")"
   ]
  },
  {
   "cell_type": "code",
   "execution_count": null,
   "id": "b00453c5",
   "metadata": {},
   "outputs": [],
   "source": []
  }
 ],
 "metadata": {
  "kernelspec": {
   "display_name": "PythonData",
   "language": "python",
   "name": "pythondata"
  },
  "language_info": {
   "codemirror_mode": {
    "name": "ipython",
    "version": 3
   },
   "file_extension": ".py",
   "mimetype": "text/x-python",
   "name": "python",
   "nbconvert_exporter": "python",
   "pygments_lexer": "ipython3",
   "version": "3.9.7"
  }
 },
 "nbformat": 4,
 "nbformat_minor": 5
}
