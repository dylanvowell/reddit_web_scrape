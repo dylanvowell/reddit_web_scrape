{
 "cells": [
  {
   "cell_type": "code",
   "execution_count": 1,
   "id": "e72051a1",
   "metadata": {},
   "outputs": [],
   "source": [
    "import seaborn as sns\n",
    "from pprint import pprint\n",
    "import pandas as pd\n",
    "import numpy as np\n",
    "import matplotlib.pyplot as plt"
   ]
  },
  {
   "cell_type": "code",
   "execution_count": 4,
   "id": "593fb27c",
   "metadata": {},
   "outputs": [],
   "source": [
    "import praw\n",
    "with open(\"config.py\", \"r\") as f:\n",
    "    secret = f.read()    \n",
    "\n",
    "user_agent = \"Scraper 1.0 by /u/street_raat\"\n",
    "reddit = praw.Reddit(\n",
    "    client_id=\"cDqi0tPvG8rAKV4ucqwVKQ\",\n",
    "    client_secret = \"26NdjuaWX_EghggDpD3JExP0NWUSYA\",\n",
    "    user_agent = user_agent\n",
    ")"
   ]
  },
  {
   "cell_type": "code",
   "execution_count": 10,
   "id": "b00453c5",
   "metadata": {},
   "outputs": [
    {
     "name": "stdout",
     "output_type": "stream",
     "text": [
      "721\n"
     ]
    }
   ],
   "source": [
    "# for loop to iterate through posts\n",
    "headlines = set()\n",
    "\n",
    "for submission in reddit.subreddit('politics').hot(limit=None):\n",
    "#     print(submission.title)\n",
    "#     print(submission.id)\n",
    "#     print(submission.author)\n",
    "#     print(submission.created_utc)\n",
    "#     print(submission.score)\n",
    "#     print(submission.upvote_ratio)\n",
    "#     print(submission.url)\n",
    "#     break\n",
    "    headlines.add(submission.title)\n",
    "print(len(headlines))"
   ]
  },
  {
   "cell_type": "code",
   "execution_count": 11,
   "id": "f0b76034",
   "metadata": {},
   "outputs": [
    {
     "data": {
      "text/html": [
       "<div>\n",
       "<style scoped>\n",
       "    .dataframe tbody tr th:only-of-type {\n",
       "        vertical-align: middle;\n",
       "    }\n",
       "\n",
       "    .dataframe tbody tr th {\n",
       "        vertical-align: top;\n",
       "    }\n",
       "\n",
       "    .dataframe thead th {\n",
       "        text-align: right;\n",
       "    }\n",
       "</style>\n",
       "<table border=\"1\" class=\"dataframe\">\n",
       "  <thead>\n",
       "    <tr style=\"text-align: right;\">\n",
       "      <th></th>\n",
       "      <th>0</th>\n",
       "    </tr>\n",
       "  </thead>\n",
       "  <tbody>\n",
       "    <tr>\n",
       "      <th>0</th>\n",
       "      <td>Right-Wing News Site Declares Trump 'Unfit To ...</td>\n",
       "    </tr>\n",
       "    <tr>\n",
       "      <th>1</th>\n",
       "      <td>Jayapal Warns GOP Will Enact Federal Abortion ...</td>\n",
       "    </tr>\n",
       "    <tr>\n",
       "      <th>2</th>\n",
       "      <td>Judge puts Biden on the spot over immunity for...</td>\n",
       "    </tr>\n",
       "    <tr>\n",
       "      <th>3</th>\n",
       "      <td>Top Election Officials in Arizona County Leave...</td>\n",
       "    </tr>\n",
       "    <tr>\n",
       "      <th>4</th>\n",
       "      <td>Dems meddle in Trump-Hogan proxy war in Maryland</td>\n",
       "    </tr>\n",
       "  </tbody>\n",
       "</table>\n",
       "</div>"
      ],
      "text/plain": [
       "                                                   0\n",
       "0  Right-Wing News Site Declares Trump 'Unfit To ...\n",
       "1  Jayapal Warns GOP Will Enact Federal Abortion ...\n",
       "2  Judge puts Biden on the spot over immunity for...\n",
       "3  Top Election Officials in Arizona County Leave...\n",
       "4   Dems meddle in Trump-Hogan proxy war in Maryland"
      ]
     },
     "execution_count": 11,
     "metadata": {},
     "output_type": "execute_result"
    }
   ],
   "source": [
    "# create DF\n",
    "scraped_df = pd.DataFrame(headlines)\n",
    "scraped_df.head()"
   ]
  },
  {
   "cell_type": "code",
   "execution_count": 12,
   "id": "31585e14",
   "metadata": {},
   "outputs": [],
   "source": [
    "# create CSV\n",
    "\n",
    "scraped_df.to_csv('headlines.csv', header=False, encoding='utf-8', index=False)"
   ]
  },
  {
   "cell_type": "code",
   "execution_count": 13,
   "id": "200d9b16",
   "metadata": {},
   "outputs": [],
   "source": [
    "import nltk"
   ]
  },
  {
   "cell_type": "code",
   "execution_count": 14,
   "id": "d96b5f28",
   "metadata": {},
   "outputs": [
    {
     "name": "stderr",
     "output_type": "stream",
     "text": [
      "[nltk_data] Downloading package vader_lexicon to\n",
      "[nltk_data]     C:\\Users\\vowel\\AppData\\Roaming\\nltk_data...\n"
     ]
    },
    {
     "data": {
      "text/plain": [
       "True"
      ]
     },
     "execution_count": 14,
     "metadata": {},
     "output_type": "execute_result"
    }
   ],
   "source": [
    "nltk.download('vader_lexicon')"
   ]
  },
  {
   "cell_type": "code",
   "execution_count": 15,
   "id": "b9c0254e",
   "metadata": {},
   "outputs": [
    {
     "name": "stdout",
     "output_type": "stream",
     "text": [
      "[{'compound': 0.0,\n",
      "  'headline': \"Right-Wing News Site Declares Trump 'Unfit To Be Anywhere Near Power Ever Again'\",\n",
      "  'neg': 0.0,\n",
      "  'neu': 1.0,\n",
      "  'pos': 0.0},\n",
      " {'compound': -0.6124,\n",
      "  'headline': 'Jayapal Warns GOP Will Enact Federal Abortion Ban If It Retakes Congress',\n",
      "  'neg': 0.333,\n",
      "  'neu': 0.667,\n",
      "  'pos': 0.0},\n",
      " {'compound': 0.0,\n",
      "  'headline': 'Judge puts Biden on the spot over immunity for Saudi crown prince Mohammed bin '\n",
      "              'Salman',\n",
      "  'neg': 0.0,\n",
      "  'neu': 1.0,\n",
      "  'pos': 0.0}]\n"
     ]
    }
   ],
   "source": [
    "from nltk.sentiment.vader import SentimentIntensityAnalyzer as SIA\n",
    "\n",
    "sia = SIA()\n",
    "results = []\n",
    "\n",
    "for line in headlines:\n",
    "    pol_score = sia.polarity_scores(line)\n",
    "    pol_score['headline'] = line\n",
    "    results.append(pol_score)\n",
    "\n",
    "pprint(results[:3], width=100)"
   ]
  },
  {
   "cell_type": "code",
   "execution_count": 16,
   "id": "02d69194",
   "metadata": {},
   "outputs": [
    {
     "data": {
      "text/html": [
       "<div>\n",
       "<style scoped>\n",
       "    .dataframe tbody tr th:only-of-type {\n",
       "        vertical-align: middle;\n",
       "    }\n",
       "\n",
       "    .dataframe tbody tr th {\n",
       "        vertical-align: top;\n",
       "    }\n",
       "\n",
       "    .dataframe thead th {\n",
       "        text-align: right;\n",
       "    }\n",
       "</style>\n",
       "<table border=\"1\" class=\"dataframe\">\n",
       "  <thead>\n",
       "    <tr style=\"text-align: right;\">\n",
       "      <th></th>\n",
       "      <th>neg</th>\n",
       "      <th>neu</th>\n",
       "      <th>pos</th>\n",
       "      <th>compound</th>\n",
       "      <th>headline</th>\n",
       "    </tr>\n",
       "  </thead>\n",
       "  <tbody>\n",
       "    <tr>\n",
       "      <th>0</th>\n",
       "      <td>0.000</td>\n",
       "      <td>1.000</td>\n",
       "      <td>0.000</td>\n",
       "      <td>0.0000</td>\n",
       "      <td>Right-Wing News Site Declares Trump 'Unfit To ...</td>\n",
       "    </tr>\n",
       "    <tr>\n",
       "      <th>1</th>\n",
       "      <td>0.333</td>\n",
       "      <td>0.667</td>\n",
       "      <td>0.000</td>\n",
       "      <td>-0.6124</td>\n",
       "      <td>Jayapal Warns GOP Will Enact Federal Abortion ...</td>\n",
       "    </tr>\n",
       "    <tr>\n",
       "      <th>2</th>\n",
       "      <td>0.000</td>\n",
       "      <td>1.000</td>\n",
       "      <td>0.000</td>\n",
       "      <td>0.0000</td>\n",
       "      <td>Judge puts Biden on the spot over immunity for...</td>\n",
       "    </tr>\n",
       "    <tr>\n",
       "      <th>3</th>\n",
       "      <td>0.339</td>\n",
       "      <td>0.508</td>\n",
       "      <td>0.153</td>\n",
       "      <td>-0.2960</td>\n",
       "      <td>Top Election Officials in Arizona County Leave...</td>\n",
       "    </tr>\n",
       "    <tr>\n",
       "      <th>4</th>\n",
       "      <td>0.358</td>\n",
       "      <td>0.642</td>\n",
       "      <td>0.000</td>\n",
       "      <td>-0.5994</td>\n",
       "      <td>Dems meddle in Trump-Hogan proxy war in Maryland</td>\n",
       "    </tr>\n",
       "  </tbody>\n",
       "</table>\n",
       "</div>"
      ],
      "text/plain": [
       "     neg    neu    pos  compound  \\\n",
       "0  0.000  1.000  0.000    0.0000   \n",
       "1  0.333  0.667  0.000   -0.6124   \n",
       "2  0.000  1.000  0.000    0.0000   \n",
       "3  0.339  0.508  0.153   -0.2960   \n",
       "4  0.358  0.642  0.000   -0.5994   \n",
       "\n",
       "                                            headline  \n",
       "0  Right-Wing News Site Declares Trump 'Unfit To ...  \n",
       "1  Jayapal Warns GOP Will Enact Federal Abortion ...  \n",
       "2  Judge puts Biden on the spot over immunity for...  \n",
       "3  Top Election Officials in Arizona County Leave...  \n",
       "4   Dems meddle in Trump-Hogan proxy war in Maryland  "
      ]
     },
     "execution_count": 16,
     "metadata": {},
     "output_type": "execute_result"
    }
   ],
   "source": [
    "records_df = pd.DataFrame.from_records(results)\n",
    "records_df.head()"
   ]
  },
  {
   "cell_type": "code",
   "execution_count": 20,
   "id": "3cf8ab97",
   "metadata": {},
   "outputs": [
    {
     "data": {
      "text/html": [
       "<div>\n",
       "<style scoped>\n",
       "    .dataframe tbody tr th:only-of-type {\n",
       "        vertical-align: middle;\n",
       "    }\n",
       "\n",
       "    .dataframe tbody tr th {\n",
       "        vertical-align: top;\n",
       "    }\n",
       "\n",
       "    .dataframe thead th {\n",
       "        text-align: right;\n",
       "    }\n",
       "</style>\n",
       "<table border=\"1\" class=\"dataframe\">\n",
       "  <thead>\n",
       "    <tr style=\"text-align: right;\">\n",
       "      <th></th>\n",
       "      <th>neg</th>\n",
       "      <th>neu</th>\n",
       "      <th>pos</th>\n",
       "      <th>compound</th>\n",
       "      <th>headline</th>\n",
       "      <th>label</th>\n",
       "    </tr>\n",
       "  </thead>\n",
       "  <tbody>\n",
       "    <tr>\n",
       "      <th>0</th>\n",
       "      <td>0.000</td>\n",
       "      <td>1.000</td>\n",
       "      <td>0.000</td>\n",
       "      <td>0.0000</td>\n",
       "      <td>Right-Wing News Site Declares Trump 'Unfit To ...</td>\n",
       "      <td>0</td>\n",
       "    </tr>\n",
       "    <tr>\n",
       "      <th>1</th>\n",
       "      <td>0.333</td>\n",
       "      <td>0.667</td>\n",
       "      <td>0.000</td>\n",
       "      <td>-0.6124</td>\n",
       "      <td>Jayapal Warns GOP Will Enact Federal Abortion ...</td>\n",
       "      <td>-1</td>\n",
       "    </tr>\n",
       "    <tr>\n",
       "      <th>2</th>\n",
       "      <td>0.000</td>\n",
       "      <td>1.000</td>\n",
       "      <td>0.000</td>\n",
       "      <td>0.0000</td>\n",
       "      <td>Judge puts Biden on the spot over immunity for...</td>\n",
       "      <td>0</td>\n",
       "    </tr>\n",
       "    <tr>\n",
       "      <th>3</th>\n",
       "      <td>0.339</td>\n",
       "      <td>0.508</td>\n",
       "      <td>0.153</td>\n",
       "      <td>-0.2960</td>\n",
       "      <td>Top Election Officials in Arizona County Leave...</td>\n",
       "      <td>-1</td>\n",
       "    </tr>\n",
       "    <tr>\n",
       "      <th>4</th>\n",
       "      <td>0.358</td>\n",
       "      <td>0.642</td>\n",
       "      <td>0.000</td>\n",
       "      <td>-0.5994</td>\n",
       "      <td>Dems meddle in Trump-Hogan proxy war in Maryland</td>\n",
       "      <td>-1</td>\n",
       "    </tr>\n",
       "  </tbody>\n",
       "</table>\n",
       "</div>"
      ],
      "text/plain": [
       "     neg    neu    pos  compound  \\\n",
       "0  0.000  1.000  0.000    0.0000   \n",
       "1  0.333  0.667  0.000   -0.6124   \n",
       "2  0.000  1.000  0.000    0.0000   \n",
       "3  0.339  0.508  0.153   -0.2960   \n",
       "4  0.358  0.642  0.000   -0.5994   \n",
       "\n",
       "                                            headline  label  \n",
       "0  Right-Wing News Site Declares Trump 'Unfit To ...      0  \n",
       "1  Jayapal Warns GOP Will Enact Federal Abortion ...     -1  \n",
       "2  Judge puts Biden on the spot over immunity for...      0  \n",
       "3  Top Election Officials in Arizona County Leave...     -1  \n",
       "4   Dems meddle in Trump-Hogan proxy war in Maryland     -1  "
      ]
     },
     "execution_count": 20,
     "metadata": {},
     "output_type": "execute_result"
    }
   ],
   "source": [
    "records_df['label'] = 0 \n",
    "records_df.loc[records_df['compound'] > 0.2, 'label'] = 1\n",
    "records_df.loc[records_df['compound'] < -0.2, 'label'] = -1\n",
    "records_df.head()"
   ]
  },
  {
   "cell_type": "code",
   "execution_count": 21,
   "id": "617ec507",
   "metadata": {},
   "outputs": [],
   "source": [
    "concise_df = records_df[['headline', 'label']]"
   ]
  },
  {
   "cell_type": "code",
   "execution_count": 22,
   "id": "4d7cc463",
   "metadata": {},
   "outputs": [],
   "source": [
    "concise_df.to_csv('reddit_headlines_and_labels.csv', encoding = 'utf-8', index=False)"
   ]
  },
  {
   "cell_type": "code",
   "execution_count": 23,
   "id": "3c4a4622",
   "metadata": {},
   "outputs": [
    {
     "data": {
      "text/plain": [
       " 0    298\n",
       "-1    239\n",
       " 1    184\n",
       "Name: label, dtype: int64"
      ]
     },
     "execution_count": 23,
     "metadata": {},
     "output_type": "execute_result"
    }
   ],
   "source": [
    "concise_df.label.value_counts()"
   ]
  },
  {
   "cell_type": "code",
   "execution_count": 24,
   "id": "3b80611a",
   "metadata": {},
   "outputs": [
    {
     "name": "stdout",
     "output_type": "stream",
     "text": [
      "Positive Headlines:\n",
      "\n",
      "['Most House Republicans who backed a Jan. 6 commission have won primaries so far',\n",
      " 'Neil Gorsuch Couldn’t Save Tribal Sovereignty From His Conservative Colleagues’ Wrath',\n",
      " 'Newsom targets DeSantis in Independence Day ad: \"Freedom is under attack\"',\n",
      " 'What Happens if Americans Stop Recognizing the Legitimacy of the Supreme Court? We Asked a Constitutional Scholar.',\n",
      " 'Taking on new challenger, Sen. Michael Bennet says democracy — and fighting Trump’s supreme court — is on the line']\n",
      "Negative Headlines:\n",
      "\n",
      "['Jayapal Warns GOP Will Enact Federal Abortion Ban If It Retakes Congress',\n",
      " 'Top Election Officials in Arizona County Leave Amid Threats',\n",
      " 'Dems meddle in Trump-Hogan proxy war in Maryland',\n",
      " 'Incendiary Republican ads boasting of ‘hunting’ rivals raise fears of violence | Ads like Greitens’ in which he says ‘get a Rino hunting permit’ could lead people to rationalize acts of violence, '\n",
      " 'experts warn',\n",
      " 'Gov. Murphy pledges to sign new gun bills Tuesday after July 4th mass shooting in Illinois']\n"
     ]
    }
   ],
   "source": [
    "# checking the headlines for accuracy\n",
    "# seems somewhat accurate\n",
    "\n",
    "print('Positive Headlines:\\n')\n",
    "pprint(list(concise_df[concise_df['label']==1].headline)[:5], width=200)\n",
    "\n",
    "print('Negative Headlines:\\n')\n",
    "pprint(list(concise_df[concise_df['label']==-1].headline)[:5], width=200)"
   ]
  },
  {
   "cell_type": "code",
   "execution_count": 27,
   "id": "bd44fce9",
   "metadata": {},
   "outputs": [
    {
     "data": {
      "image/png": "[encoded data removed]",
      "text/plain": [
       "<Figure size 576x576 with 1 Axes>"
      ]
     },
     "metadata": {
      "needs_background": "light"
     },
     "output_type": "display_data"
    }
   ],
   "source": [
    "fig, ax=plt.subplots(figsize=(8,8))\n",
    "\n",
    "counts = concise_df.label.value_counts(normalize=True) *100\n",
    "sns.barplot(x=counts.index, y=counts, ax=ax)\n",
    "\n",
    "ax.set_xticklabels([\"Negative\", \"Neutral\", \"Positive\"])\n",
    "ax.set_ylabel(\"Percentage\")\n",
    "\n",
    "plt.show()"
   ]
  },
  {
   "cell_type": "code",
   "execution_count": null,
   "id": "7cd35de0",
   "metadata": {},
   "outputs": [],
   "source": []
  }
 ],
 "metadata": {
  "kernelspec": {
   "display_name": "PythonData",
   "language": "python",
   "name": "pythondata"
  },
  "language_info": {
   "codemirror_mode": {
    "name": "ipython",
    "version": 3
   },
   "file_extension": ".py",
   "mimetype": "text/x-python",
   "name": "python",
   "nbconvert_exporter": "python",
   "pygments_lexer": "ipython3",
   "version": "3.9.7"
  }
 },
 "nbformat": 4,
 "nbformat_minor": 5
}
